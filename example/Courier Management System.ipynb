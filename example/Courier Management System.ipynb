{
 "cells": [
  {
   "cell_type": "markdown",
   "id": "07bfffcc",
   "metadata": {},
   "source": [
    "### Q1. Create a Dictionary of lists to store the information of shipments given in the table"
   ]
  },
  {
   "cell_type": "code",
   "execution_count": 15,
   "id": "409ea03f",
   "metadata": {},
   "outputs": [
    {
     "name": "stdout",
     "output_type": "stream",
     "text": [
      "{101: {'Sender': 1, 'Receiver': 3, 'Start date': '14-03-2020', 'Delivery date': '25-03-2020', 'Sender location': 'Area 1', 'Receiver location': 'Area 6', 'Delivery status': 'Delivered', 'Shipping cost': 198}, 102: {'Sender': 4, 'Receiver': 1, 'Start date': '18-06-2020', 'Delivery date': '09-07-2020', 'Sender location': 'Area 2', 'Receiver location': 'Area 4', 'Delivery status': 'Delivered', 'Shipping cost': 275}, 103: {'Sender': 2, 'Receiver': 3, 'Start date': '01-12-2020', 'Delivery date': 'Null', 'Sender location': 'Area 5', 'Receiver location': 'Area 1', 'Delivery status': 'In Transit', 'Shipping cost': 200}, 104: {'Sender': 1, 'Receiver': 5, 'Start date': '23-06-2020', 'Delivery date': '25-06-2020', 'Sender location': 'Area 1', 'Receiver location': 'Area 4', 'Delivery status': 'Delivered', 'Shipping cost': 314}, 105: {'Sender': 3, 'Receiver': 4, 'Start date': '29-08-2020', 'Delivery date': '10-09-2020', 'Sender location': 'Area 5', 'Receiver location': 'Area 3', 'Delivery status': 'Delivered', 'Shipping cost': 275}, 106: {'Sender': 5, 'Receiver': 2, 'Start date': '28-06-2020', 'Delivery date': 'Null', 'Sender location': 'Area 3', 'Receiver location': 'Area 1', 'Delivery status': 'In Transit', 'Shipping cost': 270}}\n"
     ]
    }
   ],
   "source": [
    "shipmentInfo={101:{'Sender': 1, 'Receiver': 3, 'Start date':'14-03-2020','Delivery date':'25-03-2020','Sender location':'Area 1','Receiver location':'Area 6','Delivery status':'Delivered','Shipping cost':198},\n",
    "    102:{'Sender':4,'Receiver':1,'Start date':'18-06-2020','Delivery date':'09-07-2020','Sender location':'Area 2','Receiver location':'Area 4','Delivery status':'Delivered','Shipping cost':275},\n",
    "    103:{'Sender':2,'Receiver':3,'Start date':'01-12-2020','Delivery date':'Null','Sender location':'Area 5','Receiver location':'Area 1','Delivery status':'In Transit','Shipping cost':200},\n",
    "    104:{'Sender':1,'Receiver':5,'Start date':'23-06-2020','Delivery date':'25-06-2020','Sender location':'Area 1','Receiver location':'Area 4','Delivery status':'Delivered','Shipping cost':314},\n",
    "    105:{'Sender':3,'Receiver':4,'Start date':'29-08-2020','Delivery date':'10-09-2020','Sender location':'Area 5','Receiver location':'Area 3','Delivery status':'Delivered','Shipping cost':275},\n",
    "    106:{'Sender':5,'Receiver':2,'Start date':'28-06-2020','Delivery date':'Null','Sender location':'Area 3','Receiver location':'Area 1','Delivery status':'In Transit','Shipping cost':270}}\n",
    "print(shipmentInfo)"
   ]
  },
  {
   "cell_type": "markdown",
   "id": "53929e96",
   "metadata": {},
   "source": [
    "### Q2. Create a Dictionary of to store the information of clients given in the table."
   ]
  },
  {
   "cell_type": "code",
   "execution_count": 16,
   "id": "7b1843af",
   "metadata": {},
   "outputs": [],
   "source": [
    "clientInfo={1:'Phillip',2:'Omega lll',3 :'Ramya',4:'Romesh',5:'John'}"
   ]
  },
  {
   "cell_type": "code",
   "execution_count": 17,
   "id": "4a7a216c",
   "metadata": {},
   "outputs": [
    {
     "name": "stdout",
     "output_type": "stream",
     "text": [
      "{1: 'Phillip', 2: 'Omega lll', 3: 'Ramya', 4: 'Romesh', 5: 'John'}\n"
     ]
    }
   ],
   "source": [
    "print(clientInfo)"
   ]
  },
  {
   "cell_type": "markdown",
   "id": "ff7e623b",
   "metadata": {},
   "source": [
    "### Q3. Write a code to replace client’s id with their respective name in shipment dictionary using a loop and dictionary comprehension"
   ]
  },
  {
   "cell_type": "code",
   "execution_count": 18,
   "id": "0fc99f3f",
   "metadata": {},
   "outputs": [
    {
     "name": "stdout",
     "output_type": "stream",
     "text": [
      "{101: {'Sender': 'Phillip', 'Receiver': 'Ramya', 'Start date': '14-03-2020', 'Delivery date': '25-03-2020', 'Sender location': 'Area 1', 'Receiver location': 'Area 6', 'Delivery status': 'Delivered', 'Shipping cost': 198}, 102: {'Sender': 'Romesh', 'Receiver': 'Phillip', 'Start date': '18-06-2020', 'Delivery date': '09-07-2020', 'Sender location': 'Area 2', 'Receiver location': 'Area 4', 'Delivery status': 'Delivered', 'Shipping cost': 275}, 103: {'Sender': 'Omega lll', 'Receiver': 'Ramya', 'Start date': '01-12-2020', 'Delivery date': 'Null', 'Sender location': 'Area 5', 'Receiver location': 'Area 1', 'Delivery status': 'In Transit', 'Shipping cost': 200}, 104: {'Sender': 'Phillip', 'Receiver': 'John', 'Start date': '23-06-2020', 'Delivery date': '25-06-2020', 'Sender location': 'Area 1', 'Receiver location': 'Area 4', 'Delivery status': 'Delivered', 'Shipping cost': 314}, 105: {'Sender': 'Ramya', 'Receiver': 'Romesh', 'Start date': '29-08-2020', 'Delivery date': '10-09-2020', 'Sender location': 'Area 5', 'Receiver location': 'Area 3', 'Delivery status': 'Delivered', 'Shipping cost': 275}, 106: {'Sender': 'John', 'Receiver': 'Omega lll', 'Start date': '28-06-2020', 'Delivery date': 'Null', 'Sender location': 'Area 3', 'Receiver location': 'Area 1', 'Delivery status': 'In Transit', 'Shipping cost': 270}}\n"
     ]
    },
    {
     "data": {
      "text/plain": [
       "dict"
      ]
     },
     "execution_count": 18,
     "metadata": {},
     "output_type": "execute_result"
    }
   ],
   "source": [
    "shipment_Info={key:{k:clientInfo[v] if k in ('Sender','Receiver') else v for k,v in value.items()} for key,value in shipmentInfo.items()}\n",
    "print(shipment_Info)\n",
    "type(shipment_Info)"
   ]
  },
  {
   "cell_type": "markdown",
   "id": "85b26bfb",
   "metadata": {},
   "source": [
    "### Q4. Print all shipment details that are sent by Phillip"
   ]
  },
  {
   "cell_type": "code",
   "execution_count": 19,
   "id": "6adbda84",
   "metadata": {},
   "outputs": [
    {
     "name": "stdout",
     "output_type": "stream",
     "text": [
      "101 {'Sender': 'Phillip', 'Receiver': 'Ramya', 'Start date': '14-03-2020', 'Delivery date': '25-03-2020', 'Sender location': 'Area 1', 'Receiver location': 'Area 6', 'Delivery status': 'Delivered', 'Shipping cost': 198}\n",
      "104 {'Sender': 'Phillip', 'Receiver': 'John', 'Start date': '23-06-2020', 'Delivery date': '25-06-2020', 'Sender location': 'Area 1', 'Receiver location': 'Area 4', 'Delivery status': 'Delivered', 'Shipping cost': 314}\n"
     ]
    }
   ],
   "source": [
    "for i in range(101,107):\n",
    "    if shipment_Info[i]['Sender']=='Phillip':\n",
    "        print(i,shipment_Info[i])"
   ]
  },
  {
   "cell_type": "markdown",
   "id": "76d0d37c",
   "metadata": {},
   "source": [
    "### Q5. Print all shipment details that are received by Ramya"
   ]
  },
  {
   "cell_type": "code",
   "execution_count": 20,
   "id": "317cc3fb",
   "metadata": {},
   "outputs": [
    {
     "name": "stdout",
     "output_type": "stream",
     "text": [
      "101 {'Sender': 'Phillip', 'Receiver': 'Ramya', 'Start date': '14-03-2020', 'Delivery date': '25-03-2020', 'Sender location': 'Area 1', 'Receiver location': 'Area 6', 'Delivery status': 'Delivered', 'Shipping cost': 198}\n",
      "103 {'Sender': 'Omega lll', 'Receiver': 'Ramya', 'Start date': '01-12-2020', 'Delivery date': 'Null', 'Sender location': 'Area 5', 'Receiver location': 'Area 1', 'Delivery status': 'In Transit', 'Shipping cost': 200}\n"
     ]
    }
   ],
   "source": [
    "for i in range(101,107):\n",
    "    if shipment_Info[i]['Receiver']=='Ramya':\n",
    "        print(i,shipment_Info[i])"
   ]
  },
  {
   "cell_type": "markdown",
   "id": "0dde980b",
   "metadata": {},
   "source": [
    "### Q6. Print all shipments which are in 'In-Transit' status"
   ]
  },
  {
   "cell_type": "code",
   "execution_count": 21,
   "id": "4d0feced",
   "metadata": {},
   "outputs": [
    {
     "name": "stdout",
     "output_type": "stream",
     "text": [
      "103 {'Sender': 'Omega lll', 'Receiver': 'Ramya', 'Start date': '01-12-2020', 'Delivery date': 'Null', 'Sender location': 'Area 5', 'Receiver location': 'Area 1', 'Delivery status': 'In Transit', 'Shipping cost': 200}\n",
      "Items with 103 shipment ID are 'In Transit' \n",
      "106 {'Sender': 'John', 'Receiver': 'Omega lll', 'Start date': '28-06-2020', 'Delivery date': 'Null', 'Sender location': 'Area 3', 'Receiver location': 'Area 1', 'Delivery status': 'In Transit', 'Shipping cost': 270}\n",
      "Items with 106 shipment ID are 'In Transit' \n"
     ]
    }
   ],
   "source": [
    "for i in range(101,107):\n",
    "    if shipment_Info[i]['Delivery status']=='In Transit':\n",
    "        print(i,shipment_Info[i])\n",
    "        print(\"Items with\",i,\"shipment ID are 'In Transit' \")"
   ]
  },
  {
   "cell_type": "markdown",
   "id": "1184ea78",
   "metadata": {},
   "source": [
    "### Q7. Print all shipments which are delivered within 7 days of courier Start date"
   ]
  },
  {
   "cell_type": "code",
   "execution_count": 22,
   "id": "aff2875a",
   "metadata": {},
   "outputs": [
    {
     "name": "stdout",
     "output_type": "stream",
     "text": [
      "Order with shipment Id 104 delivered within 7 days\n",
      "[104]\n"
     ]
    }
   ],
   "source": [
    "import datetime\n",
    "for i in range(101,107):\n",
    "    std=shipment_Info[i]['Start date']\n",
    "    dld=shipment_Info[i]['Delivery date']\n",
    "    if std!='Null':\n",
    "        st_d= (std.split('-'))\n",
    "        start_date= datetime.date(int(st_d[2]), int(st_d[1]), int(st_d[0]))\n",
    "        shipment_Info[i]['Start date']=start_date\n",
    "    if dld!='Null':\n",
    "        dl_d= (dld.split('-'))\n",
    "        delivery_date= datetime.date(int(dl_d[2]), int(dl_d[1]), int(dl_d[0]))\n",
    "        shipment_Info[i]['Delivery date']=delivery_date\n",
    "\n",
    "list1=[]\n",
    "for i in range(101,107):\n",
    "    ndlv_Ids=\"\"\n",
    "    if shipment_Info[i]['Delivery date']!='Null':\n",
    "        delivery_time=shipment_Info[i]['Delivery date']-shipment_Info[i]['Start date']\n",
    "        if delivery_time.days<=7:\n",
    "            list1.append(i)\n",
    "            ndlv_Ids=str(ndlv_Ids)+str(i)\n",
    "            print(\"Order with shipment Id\",ndlv_Ids,\"delivered within 7 days\")\n",
    "print(list1)"
   ]
  },
  {
   "cell_type": "markdown",
   "id": "6ea2d144",
   "metadata": {},
   "source": [
    "### Q8. Print all shipments which are delivered after 15 days of courier start date or not yet been delivered"
   ]
  },
  {
   "cell_type": "code",
   "execution_count": 11,
   "id": "2cc0712a",
   "metadata": {},
   "outputs": [
    {
     "name": "stdout",
     "output_type": "stream",
     "text": [
      "Order with shipment Id 102 takes more than 15 days to deliver\n",
      "Order with shipment Id 103  is not yet delivered\n",
      "Order with shipment Id 106  is not yet delivered\n",
      "[102, 103, 106]\n"
     ]
    }
   ],
   "source": [
    "l=[]\n",
    "for i in range(101,107):\n",
    "    ndlv_Ids1=\"\"\n",
    "    ndlv_Ids2=\"\"\n",
    "    \n",
    "    if shipment_Info[i]['Delivery date']!='Null':\n",
    "        delivery_time=shipment_Info[i]['Delivery date']-shipment_Info[i]['Start date']\n",
    "        if delivery_time.days>=15:\n",
    "            l.append(i)\n",
    "            ndlv_Ids1=str(ndlv_Ids1)+str(i)\n",
    "            print(\"Order with shipment Id\",ndlv_Ids1,\"takes more than 15 days to deliver\") \n",
    "    elif shipment_Info[i]['Delivery date']=='Null':\n",
    "        l.append(i)\n",
    "        ndlv_Ids2=str(ndlv_Ids2)+str(i)\n",
    "        print(\"Order with shipment Id\", ndlv_Ids2 ,\" is not yet delivered\")\n",
    "print(l)"
   ]
  },
  {
   "cell_type": "code",
   "execution_count": null,
   "id": "a2b562fd",
   "metadata": {},
   "outputs": [],
   "source": []
  },
  {
   "cell_type": "code",
   "execution_count": null,
   "id": "da3255c7",
   "metadata": {},
   "outputs": [],
   "source": []
  }
 ],
 "metadata": {
  "kernelspec": {
   "display_name": "Python 3 (ipykernel)",
   "language": "python",
   "name": "python3"
  },
  "language_info": {
   "codemirror_mode": {
    "name": "ipython",
    "version": 3
   },
   "file_extension": ".py",
   "mimetype": "text/x-python",
   "name": "python",
   "nbconvert_exporter": "python",
   "pygments_lexer": "ipython3",
   "version": "3.9.7"
  }
 },
 "nbformat": 4,
 "nbformat_minor": 5
}
